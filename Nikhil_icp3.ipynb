{
 "cells": [
  {
   "cell_type": "code",
   "execution_count": 1,
   "metadata": {},
   "outputs": [
    {
     "name": "stdout",
     "output_type": "stream",
     "text": [
      "Original Vector:\n",
      " [15 18 17  6 18 12  1  1 18  7 10  4 11 17 15]\n",
      "\n",
      "New matrix Array:\n",
      " [[15 18 17  6 18]\n",
      " [12  1  1 18  7]\n",
      " [10  4 11 17 15]]\n",
      "\n",
      "After Replacing Max in Each Row:\n",
      " [[15  0 17  6 18]\n",
      " [12  1  1  0  7]\n",
      " [10  4 11  0 15]]\n"
     ]
    }
   ],
   "source": [
    "import numpy as np\n",
    "\n",
    "vec = np.random.randint(1, 21, size=15)\n",
    "print(\"Original Vector:\\n\", vec)\n",
    "\n",
    "\n",
    "reshaped = vec.reshape(3, 5)\n",
    "print(\"\\nNew matrix Array:\\n\", reshaped)\n",
    "\n",
    "\n",
    "for i in range(reshaped.shape[0]):\n",
    "    max_index = np.argmax(reshaped[i])\n",
    "    reshaped[i][max_index] = 0 #repalce the max with 0\n",
    "print(\"\\nAfter Replacing Max in Each Row:\\n\", reshaped)"
   ]
  },
  {
   "cell_type": "code",
   "execution_count": 2,
   "metadata": {},
   "outputs": [
    {
     "name": "stdout",
     "output_type": "stream",
     "text": [
      "Array:\n",
      " [[ 1  2  3]\n",
      " [ 4  5  6]\n",
      " [ 7  8  9]\n",
      " [10 11 12]]\n",
      "Shape: (4, 3)\n",
      "Type: <class 'numpy.ndarray'>\n",
      "Data type: int32\n"
     ]
    }
   ],
   "source": [
    "Array = np.array([[1, 2, 3], [4, 5, 6], [7, 8, 9], [10, 11, 12]], dtype=np.int32)\n",
    "print(\"Array:\\n\", Array)\n",
    "print(\"Shape:\", Array.shape)\n",
    "print(\"Type:\", type(Array))\n",
    "print(\"Data type:\", Array.dtype)"
   ]
  },
  {
   "cell_type": "code",
   "execution_count": 3,
   "metadata": {},
   "outputs": [
    {
     "name": "stdout",
     "output_type": "stream",
     "text": [
      "Eigenvalues:\n",
      " [2. 1.]\n",
      "Eigenvectors:\n",
      " [[0.89442719 0.70710678]\n",
      " [0.4472136  0.70710678]]\n"
     ]
    }
   ],
   "source": [
    "matrix = np.array([[3, -2], [1, 0]])\n",
    "eigvals, eigvecs = np.linalg.eig(matrix)\n",
    "print(\"Eigenvalues:\\n\", eigvals)\n",
    "print(\"Eigenvectors:\\n\", eigvecs)"
   ]
  },
  {
   "cell_type": "code",
   "execution_count": 4,
   "metadata": {},
   "outputs": [
    {
     "name": "stdout",
     "output_type": "stream",
     "text": [
      "Sum of diagonal elements: 4\n"
     ]
    }
   ],
   "source": [
    "arr = np.array([[0, 1, 2], [3, 4, 5]])\n",
    "sum_diag = np.trace(arr)\n",
    "print(\"Sum of diagonal elements:\", sum_diag)"
   ]
  },
  {
   "cell_type": "code",
   "execution_count": 5,
   "metadata": {},
   "outputs": [
    {
     "name": "stdout",
     "output_type": "stream",
     "text": [
      "new\n",
      " [[1 2 3]\n",
      " [4 5 6]]\n",
      "new2\n",
      " [[1 2]\n",
      " [3 4]\n",
      " [5 6]]\n"
     ]
    }
   ],
   "source": [
    "original = np.array([[1, 2], [3, 4], [5, 6]])\n",
    "reshaped_2x3 = original.reshape(2, 3)\n",
    "print(\"new\\n\", reshaped_2x3)\n",
    "\n",
    "original2 = np.array([[1, 2, 3],[4, 5, 6]])\n",
    "reshaped_3x2=original2.reshape(3,2)\n",
    "print(\"new2\\n\",reshaped_3x2)\n"
   ]
  }
 ],
 "metadata": {
  "kernelspec": {
   "display_name": "Python 3",
   "language": "python",
   "name": "python3"
  },
  "language_info": {
   "codemirror_mode": {
    "name": "ipython",
    "version": 3
   },
   "file_extension": ".py",
   "mimetype": "text/x-python",
   "name": "python",
   "nbconvert_exporter": "python",
   "pygments_lexer": "ipython3",
   "version": "3.12.2"
  }
 },
 "nbformat": 4,
 "nbformat_minor": 2
}
