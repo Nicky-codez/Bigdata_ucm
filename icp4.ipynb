{
 "cells": [
  {
   "cell_type": "code",
   "execution_count": 36,
   "id": "45ad0f58",
   "metadata": {},
   "outputs": [],
   "source": [
    "#1. Creating a DataFrame from a given dictionary\n",
    "import pandas as pd\n",
    "import numpy as np\n",
    "\n",
    "data = {\n",
    "    'ID': np.arange(1, 1000001),  # IDs from 1 to 1,000,000\n",
    "    'Value': np.random.rand(1000000),  # Random float values between 0 and 1\n",
    "    'Category': np.random.choice(['A', 'B', 'C', 'D'], size=1000000)  # Random categories\n",
    "}\n",
    "\n",
    "df = pd.DataFrame(data)"
   ]
  },
  {
   "cell_type": "code",
   "execution_count": 37,
   "id": "95a7b42b",
   "metadata": {},
   "outputs": [
    {
     "name": "stdout",
     "output_type": "stream",
     "text": [
      "   ID     Value Category\n",
      "0   1  0.662590        C\n",
      "1   2  0.366618        B\n",
      "2   3  0.787708        B\n",
      "3   4  0.668829        D\n",
      "4   5  0.295999        B\n",
      "5   6  0.544340        B\n",
      "6   7  0.980035        A\n",
      "7   8  0.959836        A\n",
      "8   9  0.197747        B\n",
      "9  10  0.436855        B\n"
     ]
    }
   ],
   "source": [
    "# 2.Output first 10 rows\n",
    "print(df.head(10))"
   ]
  },
  {
   "cell_type": "code",
   "execution_count": 38,
   "id": "b932c8ac",
   "metadata": {},
   "outputs": [
    {
     "name": "stdout",
     "output_type": "stream",
     "text": [
      "0    0.662590\n",
      "1    0.366618\n",
      "2    0.787708\n",
      "3    0.668829\n",
      "4    0.295999\n",
      "Name: Value, dtype: float64\n"
     ]
    }
   ],
   "source": [
    "# 3.Access a column “Value”\n",
    "value_column = df['Value']\n",
    "print(value_column.head())  "
   ]
  },
  {
   "cell_type": "code",
   "execution_count": 39,
   "id": "ad1de83b",
   "metadata": {},
   "outputs": [
    {
     "name": "stdout",
     "output_type": "stream",
     "text": [
      "   ID number  Random value Choice\n",
      "0          1      0.662590      C\n",
      "1          2      0.366618      B\n",
      "2          3      0.787708      B\n",
      "3          4      0.668829      D\n",
      "4          5      0.295999      B\n"
     ]
    }
   ],
   "source": [
    "#4. Modify columns in the DataFrame with names (ID number, Random value, Choice) and show output for first five rows.\n",
    "df.columns = ['ID number', 'Random value', 'Choice']\n",
    "print(df.head(5))"
   ]
  },
  {
   "cell_type": "code",
   "execution_count": 54,
   "id": "28e6f140",
   "metadata": {},
   "outputs": [
    {
     "name": "stdout",
     "output_type": "stream",
     "text": [
      "Original DataFrame:\n",
      "   school_code class            name date_Of_Birth  age  height  weight  \\\n",
      "S1        s001     V  Alberto Franco    15/05/2002   12     173      35   \n",
      "S2        s002     V    Gino Mcneill    17/05/2002   12     192      32   \n",
      "S3        s003    VI     Ryan Parkes    16/02/1999   13     186      33   \n",
      "S4        s001    VI    Eesha Hinton    25/09/1998   13     167      30   \n",
      "S5        s004     V    Gino Mcneill    11/05/2002   14     151      31   \n",
      "S6        s002    VI    David Parkes    15/09/1999   12     159      32   \n",
      "\n",
      "    address  \n",
      "S1  street1  \n",
      "S2  street2  \n",
      "S3  street3  \n",
      "S4  street1  \n",
      "S5  street2  \n",
      "S6  street4  \n",
      "\n",
      "Split the said data on school_code, class wise:\n",
      "\n",
      "Group: ('s001', 'V')\n",
      "   school_code class            name date_Of_Birth  age  height  weight  \\\n",
      "S1        s001     V  Alberto Franco    15/05/2002   12     173      35   \n",
      "\n",
      "    address  \n",
      "S1  street1  \n",
      "\n",
      "Group: ('s001', 'VI')\n",
      "   school_code class          name date_Of_Birth  age  height  weight  address\n",
      "S4        s001    VI  Eesha Hinton    25/09/1998   13     167      30  street1\n",
      "\n",
      "Group: ('s002', 'V')\n",
      "   school_code class          name date_Of_Birth  age  height  weight  address\n",
      "S2        s002     V  Gino Mcneill    17/05/2002   12     192      32  street2\n",
      "\n",
      "Group: ('s002', 'VI')\n",
      "   school_code class          name date_Of_Birth  age  height  weight  address\n",
      "S6        s002    VI  David Parkes    15/09/1999   12     159      32  street4\n",
      "\n",
      "Group: ('s003', 'VI')\n",
      "   school_code class         name date_Of_Birth  age  height  weight  address\n",
      "S3        s003    VI  Ryan Parkes    16/02/1999   13     186      33  street3\n",
      "\n",
      "Group: ('s004', 'V')\n",
      "   school_code class          name date_Of_Birth  age  height  weight  address\n",
      "S5        s004     V  Gino Mcneill    11/05/2002   14     151      31  street2\n"
     ]
    }
   ],
   "source": [
    "#5.\n",
    "import pandas as pd\n",
    "\n",
    "# Optional: Display all rows in output\n",
    "pd.set_option('display.max_rows', None)\n",
    "\n",
    "# Create the student DataFrame\n",
    "student_data = pd.DataFrame({\n",
    "    'school_code': ['s001', 's002', 's003', 's001', 's004', 's002'],\n",
    "    'class': ['V', 'V', 'VI', 'VI', 'V', 'VI'],\n",
    "    'name': ['Alberto Franco', 'Gino Mcneill', 'Ryan Parkes', 'Eesha Hinton', 'Gino Mcneill', 'David Parkes'],\n",
    "    'date_Of_Birth': ['15/05/2002', '17/05/2002', '16/02/1999', '25/09/1998', '11/05/2002', '15/09/1999'],\n",
    "    'age': [12, 12, 13, 13, 14, 12],\n",
    "    'height': [173, 192, 186, 167, 151, 159],\n",
    "    'weight': [35, 32, 33, 30, 31, 32],\n",
    "    'address': ['street1', 'street2', 'street3', 'street1', 'street2', 'street4']\n",
    "}, index=['S1', 'S2', 'S3', 'S4', 'S5', 'S6'])\n",
    "\n",
    "# Display the original DataFrame\n",
    "print(\"Original DataFrame:\")\n",
    "print(student_data)\n",
    "\n",
    "# Group by school_code and class\n",
    "print(\"\\nSplit the said data on school_code, class wise:\")\n",
    "result = student_data.groupby(['school_code', 'class'])\n",
    "\n",
    "# Print each group\n",
    "for name, group in result:\n",
    "    print(\"\\nGroup:\", name)\n",
    "    print(group)"
   ]
  },
  {
   "cell_type": "code",
   "execution_count": 55,
   "id": "db888fbf",
   "metadata": {},
   "outputs": [],
   "source": [
    "# 6.Read the provided CSV file ‘data.csv’\n",
    "import pandas as pd\n",
    "\n",
    "df = pd.read_csv('data.csv')"
   ]
  },
  {
   "cell_type": "code",
   "execution_count": 56,
   "id": "8c64dc8b",
   "metadata": {},
   "outputs": [
    {
     "name": "stdout",
     "output_type": "stream",
     "text": [
      "         Duration       Pulse    Maxpulse     Calories\n",
      "count  169.000000  169.000000  169.000000   164.000000\n",
      "mean    63.846154  107.461538  134.047337   375.790244\n",
      "std     42.299949   14.510259   16.450434   266.379919\n",
      "min     15.000000   80.000000  100.000000    50.300000\n",
      "25%     45.000000  100.000000  124.000000   250.925000\n",
      "50%     60.000000  105.000000  131.000000   318.600000\n",
      "75%     60.000000  111.000000  141.000000   387.600000\n",
      "max    300.000000  159.000000  184.000000  1860.400000\n"
     ]
    }
   ],
   "source": [
    "# 7.Show the basic statistical description about the data.\n",
    "print(df.describe())"
   ]
  },
  {
   "cell_type": "code",
   "execution_count": 57,
   "id": "3d317f93",
   "metadata": {},
   "outputs": [
    {
     "name": "stdout",
     "output_type": "stream",
     "text": [
      "Duration    0\n",
      "Pulse       0\n",
      "Maxpulse    0\n",
      "Calories    5\n",
      "dtype: int64\n"
     ]
    }
   ],
   "source": [
    "# 8.Check for nulls\n",
    "print(df.isnull().sum())\n",
    "\n",
    "# Replace nulls with column mean\n",
    "df.fillna(df.mean(numeric_only=True), inplace=True)"
   ]
  },
  {
   "cell_type": "code",
   "execution_count": 58,
   "id": "39c2dd5e",
   "metadata": {},
   "outputs": [
    {
     "name": "stdout",
     "output_type": "stream",
     "text": [
      "         Duration     Calories\n",
      "min     15.000000    50.300000\n",
      "max    300.000000  1860.400000\n",
      "count  169.000000   169.000000\n",
      "mean    63.846154   375.790244\n"
     ]
    }
   ],
   "source": [
    "# 9.Select at least two columns and aggregate the data using: min, max, count, mean.\n",
    "aggregated = df[['Duration', 'Calories']].agg(['min', 'max', 'count', 'mean'])\n",
    "print(aggregated)"
   ]
  },
  {
   "cell_type": "code",
   "execution_count": 59,
   "id": "89d609b9",
   "metadata": {},
   "outputs": [
    {
     "name": "stdout",
     "output_type": "stream",
     "text": [
      "     Duration  Pulse  Maxpulse  Calories\n",
      "51         80    123       146     643.1\n",
      "62        160    109       135     853.0\n",
      "65        180     90       130     800.4\n",
      "66        150    105       135     873.4\n",
      "67        150    107       130     816.0\n",
      "72         90    100       127     700.0\n",
      "73        150     97       127     953.2\n",
      "75         90     98       125     563.2\n",
      "78        120    100       130     500.4\n",
      "83        120    100       130     500.0\n",
      "90        180    101       127     600.1\n",
      "99         90     93       124     604.1\n",
      "101        90     90       110     500.0\n",
      "102        90     90       100     500.0\n",
      "103        90     90       100     500.4\n",
      "106       180     90       120     800.3\n",
      "108        90     90       120     500.3\n"
     ]
    }
   ],
   "source": [
    "#10 .Filter the dataframe to select the rows with calories values between 500 and 1000.\n",
    "filtered_500_1000 = df[(df['Calories'] >= 500) & (df['Calories'] <= 1000)]\n",
    "print(filtered_500_1000)"
   ]
  },
  {
   "cell_type": "code",
   "execution_count": 61,
   "id": "ff506ee2",
   "metadata": {},
   "outputs": [
    {
     "name": "stdout",
     "output_type": "stream",
     "text": [
      "     Duration  Pulse  Maxpulse  Calories\n",
      "65        180     90       130     800.4\n",
      "70        150     97       129    1115.0\n",
      "73        150     97       127     953.2\n",
      "75         90     98       125     563.2\n",
      "99         90     93       124     604.1\n",
      "103        90     90       100     500.4\n",
      "106       180     90       120     800.3\n",
      "108        90     90       120     500.3\n"
     ]
    }
   ],
   "source": [
    "#11.Filter the dataframe to select the rows with calories values > 500 and pulse < 100\n",
    "filtered_cal_pulse = df[(df['Calories'] > 500) & (df['Pulse'] < 100)]\n",
    "print(filtered_cal_pulse)"
   ]
  },
  {
   "cell_type": "code",
   "execution_count": 62,
   "id": "cee7dcc0",
   "metadata": {},
   "outputs": [
    {
     "name": "stdout",
     "output_type": "stream",
     "text": [
      "df_modified:\n",
      "    Duration  Pulse  Calories\n",
      "0        60    110     409.1\n",
      "1        60    117     479.0\n",
      "2        60    103     340.0\n",
      "3        45    109     282.4\n",
      "4        45    117     406.0\n"
     ]
    }
   ],
   "source": [
    "# Create df_modified without 'Maxpulse'\n",
    "df_modified = df.drop(columns=['Maxpulse'], errors='ignore')\n",
    "\n",
    "print(\"df_modified:\\n\", df_modified.head())"
   ]
  },
  {
   "cell_type": "code",
   "execution_count": 63,
   "id": "82883deb",
   "metadata": {},
   "outputs": [
    {
     "name": "stdout",
     "output_type": "stream",
     "text": [
      "Maxpulse column dropped successfully.\n"
     ]
    }
   ],
   "source": [
    "# 13 Delete the “Maxpulse” column from the main df dataframe \n",
    "if 'Maxpulse' in df.columns:\n",
    "    df.drop(columns=['Maxpulse'], inplace=True)\n",
    "    print(\"Maxpulse column dropped successfully.\")\n",
    "else:\n",
    "    print(\"Maxpulse column not found in the DataFrame.\")\n",
    "    print(df.columns)\n"
   ]
  },
  {
   "cell_type": "code",
   "execution_count": 64,
   "id": "5081be6a",
   "metadata": {},
   "outputs": [
    {
     "name": "stdout",
     "output_type": "stream",
     "text": [
      "Duration    int64\n",
      "Pulse       int64\n",
      "Calories    int32\n",
      "dtype: object\n"
     ]
    }
   ],
   "source": [
    "#14. Convert the datatype of Calories column to int datatype\n",
    "df['Calories'] = df['Calories'].astype(int)\n",
    "print(df.dtypes)\n"
   ]
  },
  {
   "cell_type": "code",
   "execution_count": 51,
   "id": "66f98e27",
   "metadata": {},
   "outputs": [
    {
     "data": {
      "image/png": "[encoded data removed]",
      "text/plain": [
       "<Figure size 640x480 with 1 Axes>"
      ]
     },
     "metadata": {},
     "output_type": "display_data"
    }
   ],
   "source": [
    "# 15 Using pandas create a scatter plot for the two columns (Duration and Calories)\n",
    "import matplotlib.pyplot as plt\n",
    "\n",
    "plt.scatter(df['Duration'], df['Calories'], color='blue')\n",
    "plt.title('Duration vs Calories')\n",
    "plt.xlabel('Duration')\n",
    "plt.ylabel('Calories')\n",
    "plt.grid(True)\n",
    "plt.show()\n"
   ]
  }
 ],
 "metadata": {
  "kernelspec": {
   "display_name": "Python 3",
   "language": "python",
   "name": "python3"
  },
  "language_info": {
   "codemirror_mode": {
    "name": "ipython",
    "version": 3
   },
   "file_extension": ".py",
   "mimetype": "text/x-python",
   "name": "python",
   "nbconvert_exporter": "python",
   "pygments_lexer": "ipython3",
   "version": "3.12.2"
  }
 },
 "nbformat": 4,
 "nbformat_minor": 5
}
